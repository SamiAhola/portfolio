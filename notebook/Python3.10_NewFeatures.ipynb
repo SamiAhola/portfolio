{
 "cells": [
  {
   "cell_type": "markdown",
   "id": "4adbf4a0-d119-4307-9eed-a15bc55479e3",
   "metadata": {},
   "source": [
    "# Python 3.10 New Features"
   ]
  },
  {
   "cell_type": "markdown",
   "id": "4ea2abef-cfbb-4a9b-b068-792592754f3e",
   "metadata": {},
   "source": [
    "## Pattern Matching"
   ]
  },
  {
   "cell_type": "markdown",
   "id": "6eec4f10-59dd-414d-82c3-239127dffee5",
   "metadata": {
    "tags": []
   },
   "source": [
    "### Number Sequences"
   ]
  },
  {
   "cell_type": "code",
   "execution_count": 1,
   "id": "0d193956-4c9f-47ce-a5c5-1091d47881ca",
   "metadata": {},
   "outputs": [
    {
     "data": {
      "text/plain": [
       "[8]"
      ]
     },
     "execution_count": 1,
     "metadata": {},
     "output_type": "execute_result"
    }
   ],
   "source": [
    "from random import randint\n",
    "\n",
    "def random_seq_generator():\n",
    "    \"\"\"Generate sequences of random ints with length of 1-3\"\"\"\n",
    "    while True:\n",
    "        random_ints = [randint(0, 10) for _ in range(randint(1,5))]\n",
    "        yield random_ints\n",
    "\n",
    "# Example sequence\n",
    "next(random_seq_generator())"
   ]
  },
  {
   "cell_type": "code",
   "execution_count": 2,
   "id": "b684f24a-fd0e-4581-8d90-9c78642b993a",
   "metadata": {},
   "outputs": [
    {
     "data": {
      "text/plain": [
       "[[9, 3],\n",
       " [10, 7],\n",
       " [8],\n",
       " [6, 4],\n",
       " [6],\n",
       " [10, 7, 5, 7],\n",
       " [10, 2, 2, 8, 8],\n",
       " [0, 6, 10],\n",
       " [7, 10, 3, 0, 2],\n",
       " [9, 8, 9, 0, 5]]"
      ]
     },
     "execution_count": 2,
     "metadata": {},
     "output_type": "execute_result"
    }
   ],
   "source": [
    "import itertools\n",
    "\n",
    "# Generate some random number sequences\n",
    "seq_list = list(itertools.islice(random_seq_generator(), 30))\n",
    "seq_list[:10]"
   ]
  },
  {
   "cell_type": "code",
   "execution_count": 3,
   "id": "a5cd4c60-c54f-4e46-87be-c5dd794b51fc",
   "metadata": {},
   "outputs": [
    {
     "name": "stdout",
     "output_type": "stream",
     "text": [
      "Match single item: 8\n",
      "Match single item: 6\n",
      "Match single item: 8\n",
      "Match head 3: tail [2]\n",
      "Match single item: 10\n",
      "Match head 3: tail [5, 0, 2]\n",
      "Match same head and last item: head 7, last 7, mid []\n",
      "Match single item: 0\n",
      "Match single item: 7\n",
      "Match single item: 0\n",
      "Match same head and last item: head 0, last 0, mid [3]\n",
      "No matches for: [[9, 3], [10, 7], [6, 4], [10, 7, 5, 7], [10, 2, 2, 8, 8], [0, 6, 10], [7, 10, 3, 0, 2], [9, 8, 9, 0, 5], [10, 4], [10, 7], [9, 10, 7, 5], [1, 5, 7], [8, 8, 9, 7, 3], [5, 10, 8], [8, 5, 2, 9], [6, 1, 6, 8, 8], [9, 1, 10, 4, 8], [10, 9], [0, 4, 7, 6]]\n"
     ]
    }
   ],
   "source": [
    "no_matches = list()\n",
    "\n",
    "for seq in seq_list:\n",
    "    match seq:\n",
    "        case [num]:\n",
    "            print(f\"Match single item: {num}\")\n",
    "        case [3, *tail]:\n",
    "            print(f\"Match head 3: tail {tail}\")\n",
    "        case [2, *mid, 9]:\n",
    "            print(f\"Match seqs starting with 3 and ends with 9: mid {mid}\")\n",
    "        case [head, *mid, last] if head == last: \n",
    "            print(f\"Match same head and last item: head {head}, last {last}, mid {mid}\")\n",
    "        case _ as nomatch:\n",
    "            no_matches.append(nomatch)\n",
    "\n",
    "print(f\"No matches for: {no_matches}\")"
   ]
  },
  {
   "cell_type": "markdown",
   "id": "4d0e0053-fa1f-4759-8ef5-0ae3ad78a152",
   "metadata": {},
   "source": [
    "### Dictionaries"
   ]
  },
  {
   "cell_type": "code",
   "execution_count": 4,
   "id": "d8d2a47a-d719-4a88-9a18-4f53d6962c71",
   "metadata": {},
   "outputs": [],
   "source": [
    "cars = [\n",
    "    {'energy': 'hybrid', 'manufacturer': 'Toyota', 'model': \"Prius\"}, \n",
    "    {'energy': 'electricity', 'manufacturer': 'Toyota', 'model': \"Mirai\"}, \n",
    "    {'energy': 'electricity', 'manufacturer': 'Tesla', 'model': \"Model 3\"}, \n",
    "    {'energy': 'gas', 'economy': 13, 'manufacturer': 'Ford', 'model': \"Mustang\"}\n",
    "]"
   ]
  },
  {
   "cell_type": "code",
   "execution_count": 5,
   "id": "09d78b03-c8ea-4046-98e3-92714a003bcc",
   "metadata": {},
   "outputs": [
    {
     "data": {
      "text/plain": [
       "['Prius is a green car from Toyota',\n",
       " 'Mirai is a green car from Toyota',\n",
       " 'Model 3 is a green car from Tesla',\n",
       " 'Mustang is not so green car: economy of 13l is over 10l/100km']"
      ]
     },
     "execution_count": 5,
     "metadata": {},
     "output_type": "execute_result"
    }
   ],
   "source": [
    "def evaluate_greeness(car):\n",
    "    match car:\n",
    "        case {'energy': energy, 'manufacturer': manufacturer, 'model': model} if energy in ['hybrid', 'electricity']:\n",
    "            return f\"{model} is a green car from {manufacturer}\"\n",
    "        case {'energy': 'gas', 'economy': econ, 'model': model} if econ > 10:\n",
    "            return f\"{model} is not so green car: economy of {econ}l is over 10l/100km\"\n",
    "        case _:\n",
    "            return \"Cannot classify\"\n",
    "\n",
    "list(map(evaluate_greeness, cars))"
   ]
  },
  {
   "cell_type": "markdown",
   "id": "a0cbb9c8-ae2c-4f7a-903d-d42842d85d60",
   "metadata": {},
   "source": [
    "### Special case: matching to constants/variables"
   ]
  },
  {
   "cell_type": "markdown",
   "id": "58c83d13-38eb-48a5-a0eb-3e94781e65a9",
   "metadata": {},
   "source": [
    "One cannot use variables directly as values to match case statement, but values can be dot notations. So we want to use SimpleNamespace in order to access variable through dot notation in case statement."
   ]
  },
  {
   "cell_type": "code",
   "execution_count": 6,
   "id": "ade3cc25-2c23-46bd-824d-08890d0ee56a",
   "metadata": {},
   "outputs": [
    {
     "name": "stdout",
     "output_type": "stream",
     "text": [
      "Tesla:\n",
      "{'energy': 'electricity', 'manufacturer': 'Tesla', 'model': 'Model 3'}\n",
      "Toyota:\n",
      "{'energy': 'hybrid', 'manufacturer': 'Toyota', 'model': 'Prius'}\n",
      "{'energy': 'electricity', 'manufacturer': 'Toyota', 'model': 'Mirai'}\n"
     ]
    }
   ],
   "source": [
    "from types import SimpleNamespace\n",
    "\n",
    "keys = SimpleNamespace()\n",
    "for manufacturer in ['Tesla', 'Toyota']:\n",
    "    print(f\"{manufacturer}:\")\n",
    "    keys.manufacturer = manufacturer\n",
    "    for car in cars:\n",
    "        match car:\n",
    "            case {'manufacturer': keys.manufacturer} as c:\n",
    "                print(c)"
   ]
  }
 ],
 "metadata": {
  "kernelspec": {
   "display_name": "Python 3 (ipykernel)",
   "language": "python",
   "name": "python3"
  },
  "language_info": {
   "codemirror_mode": {
    "name": "ipython",
    "version": 3
   },
   "file_extension": ".py",
   "mimetype": "text/x-python",
   "name": "python",
   "nbconvert_exporter": "python",
   "pygments_lexer": "ipython3",
   "version": "3.10.0rc2"
  }
 },
 "nbformat": 4,
 "nbformat_minor": 5
}
