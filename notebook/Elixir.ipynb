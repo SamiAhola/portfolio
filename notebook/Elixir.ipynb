{
 "cells": [
  {
   "cell_type": "markdown",
   "id": "bf728ab1-6702-4287-81a6-eea2481eb63f",
   "metadata": {},
   "source": [
    "# Elixir"
   ]
  },
  {
   "cell_type": "markdown",
   "id": "7545d4a7-ae7b-455e-a2de-f931eea32850",
   "metadata": {
    "jp-MarkdownHeadingCollapsed": true,
    "tags": []
   },
   "source": [
    "## Basic Types"
   ]
  },
  {
   "cell_type": "markdown",
   "id": "b1973440-96a0-4548-a98d-079e952e6cbd",
   "metadata": {
    "tags": []
   },
   "source": [
    "### Arithmetics"
   ]
  },
  {
   "cell_type": "code",
   "execution_count": 6,
   "id": "ff018c3f-d02b-4b1e-8de2-6cf967514212",
   "metadata": {},
   "outputs": [
    {
     "data": {
      "text/plain": [
       "5"
      ]
     },
     "execution_count": 6,
     "metadata": {},
     "output_type": "execute_result"
    }
   ],
   "source": [
    "div(10, 2)"
   ]
  },
  {
   "cell_type": "code",
   "execution_count": 7,
   "id": "619ccc45-b478-4462-9c27-d0b8b425ea4c",
   "metadata": {},
   "outputs": [
    {
     "data": {
      "text/plain": [
       "5"
      ]
     },
     "execution_count": 7,
     "metadata": {},
     "output_type": "execute_result"
    }
   ],
   "source": [
    "div 10, 2"
   ]
  },
  {
   "cell_type": "markdown",
   "id": "7a9a4961-7823-4117-b910-f0e71249afe8",
   "metadata": {
    "tags": []
   },
   "source": [
    "### Atoms"
   ]
  },
  {
   "cell_type": "code",
   "execution_count": 17,
   "id": "d6831c8b-9d66-439f-833e-0be31576f5a0",
   "metadata": {},
   "outputs": [
    {
     "data": {
      "text/plain": [
       ":apple"
      ]
     },
     "execution_count": 17,
     "metadata": {},
     "output_type": "execute_result"
    }
   ],
   "source": [
    ":apple"
   ]
  },
  {
   "cell_type": "code",
   "execution_count": 18,
   "id": "450d4849-46fb-44f8-8835-ab8ebcab503d",
   "metadata": {},
   "outputs": [
    {
     "data": {
      "text/plain": [
       "true"
      ]
     },
     "execution_count": 18,
     "metadata": {},
     "output_type": "execute_result"
    }
   ],
   "source": [
    "is_atom(:ok)"
   ]
  },
  {
   "cell_type": "markdown",
   "id": "e62853f4-d56c-492d-bf18-adeb8356f97b",
   "metadata": {
    "jp-MarkdownHeadingCollapsed": true,
    "tags": []
   },
   "source": [
    "### Strings"
   ]
  },
  {
   "cell_type": "code",
   "execution_count": 23,
   "id": "b9e38f59-4545-414b-b9c7-e181c4aef7b2",
   "metadata": {},
   "outputs": [
    {
     "name": "stdout",
     "output_type": "stream",
     "text": [
      "Hello\n",
      "World\n"
     ]
    },
    {
     "data": {
      "text/plain": [
       ":ok"
      ]
     },
     "execution_count": 23,
     "metadata": {},
     "output_type": "execute_result"
    }
   ],
   "source": [
    "message = \"Hello\\nWorld\"\n",
    "IO.puts(message)"
   ]
  },
  {
   "cell_type": "code",
   "execution_count": 24,
   "id": "20893c82-6de1-47ba-8403-edb9e9fbb301",
   "metadata": {},
   "outputs": [
    {
     "data": {
      "text/plain": [
       "11"
      ]
     },
     "execution_count": 24,
     "metadata": {},
     "output_type": "execute_result"
    }
   ],
   "source": [
    "String.length(message)"
   ]
  },
  {
   "cell_type": "code",
   "execution_count": 25,
   "id": "285629f2-be8d-4267-a82e-d390517ff2fa",
   "metadata": {},
   "outputs": [
    {
     "data": {
      "text/plain": [
       "\"HELLO\\nWORLD\""
      ]
     },
     "execution_count": 25,
     "metadata": {},
     "output_type": "execute_result"
    }
   ],
   "source": [
    "String.upcase(message)"
   ]
  },
  {
   "cell_type": "markdown",
   "id": "560da945-5ec4-40c2-8b20-5d4a180e97b4",
   "metadata": {
    "jp-MarkdownHeadingCollapsed": true,
    "tags": []
   },
   "source": [
    "### Anonymous functions"
   ]
  },
  {
   "cell_type": "code",
   "execution_count": 33,
   "id": "8f6ec90c-4490-4edc-8d65-79d6092b534c",
   "metadata": {},
   "outputs": [
    {
     "data": {
      "text/plain": [
       "#Function<43.40011524/2 in :erl_eval.expr/5>"
      ]
     },
     "execution_count": 33,
     "metadata": {},
     "output_type": "execute_result"
    }
   ],
   "source": [
    "f = fn a, b -> a / b end"
   ]
  },
  {
   "cell_type": "code",
   "execution_count": 34,
   "id": "930b8fd9-40b5-4bcd-958e-1f464e8adf05",
   "metadata": {},
   "outputs": [
    {
     "data": {
      "text/plain": [
       "2.5"
      ]
     },
     "execution_count": 34,
     "metadata": {},
     "output_type": "execute_result"
    }
   ],
   "source": [
    "f.(5, 2)"
   ]
  },
  {
   "cell_type": "code",
   "execution_count": 37,
   "id": "828651f2-dcc0-4677-8552-0f79a2e2b7e7",
   "metadata": {},
   "outputs": [
    {
     "data": {
      "text/plain": [
       "18"
      ]
     },
     "execution_count": 37,
     "metadata": {},
     "output_type": "execute_result"
    }
   ],
   "source": [
    "# Closures\n",
    "\n",
    "c = 13\n",
    "f2 = fn a, b -> a + b + c end\n",
    "f2.(2, 3)"
   ]
  },
  {
   "cell_type": "markdown",
   "id": "a6245833-7de0-494e-a032-5c48e71f8e47",
   "metadata": {
    "jp-MarkdownHeadingCollapsed": true,
    "tags": []
   },
   "source": [
    "### Data Structures"
   ]
  },
  {
   "cell_type": "code",
   "execution_count": 41,
   "id": "3c8589ca-08da-4e41-a849-c0a6e79f8422",
   "metadata": {},
   "outputs": [
    {
     "data": {
      "text/plain": [
       "[3, 4, 5, 'a', 'b', 'c']"
      ]
     },
     "execution_count": 41,
     "metadata": {},
     "output_type": "execute_result"
    }
   ],
   "source": [
    "# Linked lists\n",
    "\n",
    "[3, 4, 5] ++ ['a', 'b', 'c']"
   ]
  },
  {
   "cell_type": "code",
   "execution_count": 50,
   "id": "6cb5824c-e197-4214-8d10-f9d09c7a2f64",
   "metadata": {},
   "outputs": [
    {
     "data": {
      "text/plain": [
       "{1, 2, 3}"
      ]
     },
     "execution_count": 50,
     "metadata": {},
     "output_type": "execute_result"
    }
   ],
   "source": [
    "# Tuples\n",
    "\n",
    "{1, 2, 3}"
   ]
  },
  {
   "cell_type": "markdown",
   "id": "36e625c7-8f62-405d-9481-a9d3eea25ce2",
   "metadata": {
    "jp-MarkdownHeadingCollapsed": true,
    "tags": []
   },
   "source": [
    "## Basic Operators"
   ]
  },
  {
   "cell_type": "code",
   "execution_count": 54,
   "id": "c04c8bc2-2a45-40cb-9f5f-4e91cd5dbe4e",
   "metadata": {},
   "outputs": [
    {
     "data": {
      "text/plain": [
       "[1, 2, 3, 4, 5]"
      ]
     },
     "execution_count": 54,
     "metadata": {},
     "output_type": "execute_result"
    }
   ],
   "source": [
    "[1, 2, 3] ++ [4, 5]"
   ]
  },
  {
   "cell_type": "code",
   "execution_count": 55,
   "id": "ac4c7f3f-e669-4781-baa2-b4780cb2584e",
   "metadata": {},
   "outputs": [
    {
     "data": {
      "text/plain": [
       "\"Hello World\""
      ]
     },
     "execution_count": 55,
     "metadata": {},
     "output_type": "execute_result"
    }
   ],
   "source": [
    "\"Hello\" <> \" \" <> \"World\""
   ]
  },
  {
   "cell_type": "markdown",
   "id": "f2d16669-4636-4f94-9ac5-4ca6cd754db5",
   "metadata": {
    "jp-MarkdownHeadingCollapsed": true,
    "tags": []
   },
   "source": [
    "## Pattern Matching"
   ]
  },
  {
   "cell_type": "code",
   "execution_count": 62,
   "id": "653f6fb1-b82e-4287-9dc9-9a57a3470297",
   "metadata": {},
   "outputs": [
    {
     "data": {
      "text/plain": [
       "{1, 2, 3}"
      ]
     },
     "execution_count": 62,
     "metadata": {},
     "output_type": "execute_result"
    }
   ],
   "source": [
    "{a, b, c} = {1, 2, 3}"
   ]
  },
  {
   "cell_type": "code",
   "execution_count": 63,
   "id": "8f77d4c2-863f-400c-ae73-9e090bc4f5c3",
   "metadata": {},
   "outputs": [
    {
     "data": {
      "text/plain": [
       "[:hello, :world]"
      ]
     },
     "execution_count": 63,
     "metadata": {},
     "output_type": "execute_result"
    }
   ],
   "source": [
    "[a, b] = [:hello, :world]"
   ]
  },
  {
   "cell_type": "code",
   "execution_count": 64,
   "id": "9d073909-1718-4fdc-8d4d-ef180b66dcce",
   "metadata": {},
   "outputs": [
    {
     "ename": "MatchError",
     "evalue": "1",
     "execution_count": 64,
     "output_type": "error",
     "traceback": [
      "** %MatchError{term: {1, 3}}"
     ]
    }
   ],
   "source": [
    "{2, a} = {1, 3}"
   ]
  },
  {
   "cell_type": "code",
   "execution_count": 64,
   "id": "34ad59ce-2442-476f-b0be-cbecd3fc01e7",
   "metadata": {},
   "outputs": [
    {
     "data": {
      "text/plain": [
       "{2, 3}"
      ]
     },
     "execution_count": 64,
     "metadata": {},
     "output_type": "execute_result"
    }
   ],
   "source": [
    "{2, a} = {2, 3}"
   ]
  },
  {
   "cell_type": "code",
   "execution_count": 68,
   "id": "52bb0ba2-0da4-4d79-87b8-3a7fa812d6c9",
   "metadata": {},
   "outputs": [
    {
     "data": {
      "text/plain": [
       "{1, [2, 3, 4, 5]}"
      ]
     },
     "execution_count": 68,
     "metadata": {},
     "output_type": "execute_result"
    }
   ],
   "source": [
    "[h | t] = [1, 2, 3, 4, 5]\n",
    "{h, t}"
   ]
  },
  {
   "cell_type": "code",
   "execution_count": 69,
   "id": "5e97b13b-0741-45f0-9d5f-817618d7c79e",
   "metadata": {},
   "outputs": [
    {
     "data": {
      "text/plain": [
       "2"
      ]
     },
     "execution_count": 69,
     "metadata": {},
     "output_type": "execute_result"
    }
   ],
   "source": [
    "a = 1\n",
    "a = 2"
   ]
  },
  {
   "cell_type": "code",
   "execution_count": 70,
   "id": "05977bd8-e82d-49fe-a0f6-35c9eae5802b",
   "metadata": {},
   "outputs": [
    {
     "ename": "MatchError",
     "evalue": "1",
     "execution_count": 70,
     "output_type": "error",
     "traceback": [
      "** %MatchError{term: 1}"
     ]
    }
   ],
   "source": [
    "# Pin\n",
    "\n",
    "^a = 1\n",
    "a = 2"
   ]
  },
  {
   "cell_type": "markdown",
   "id": "9c218cde-3228-4e53-8634-db4417a8e2ce",
   "metadata": {
    "jp-MarkdownHeadingCollapsed": true,
    "tags": []
   },
   "source": [
    "## Conditionals"
   ]
  },
  {
   "cell_type": "code",
   "execution_count": 81,
   "id": "4cce95c2-72a1-4175-a627-3e50388139ed",
   "metadata": {},
   "outputs": [
    {
     "data": {
      "text/plain": [
       "\"This matches. x=bar\""
      ]
     },
     "execution_count": 81,
     "metadata": {},
     "output_type": "execute_result"
    }
   ],
   "source": [
    "# Case\n",
    "\n",
    "case {'foo', 'bar'} do\n",
    "    {'foo', x} ->\n",
    "       \"This matches. x=#{x}\"\n",
    "    _ -> \n",
    "       \"Match any value\"\n",
    "end"
   ]
  },
  {
   "cell_type": "markdown",
   "id": "aef032e5-4a40-480e-8b3c-29104bd2425d",
   "metadata": {
    "jp-MarkdownHeadingCollapsed": true,
    "tags": []
   },
   "source": [
    "## Bitstrings"
   ]
  },
  {
   "cell_type": "code",
   "execution_count": 89,
   "id": "0e4a7c7a-876b-4893-939b-a23ea9ef9856",
   "metadata": {},
   "outputs": [
    {
     "data": {
      "text/plain": [
       "\"*\""
      ]
     },
     "execution_count": 89,
     "metadata": {},
     "output_type": "execute_result"
    }
   ],
   "source": [
    "<<42::8>>"
   ]
  },
  {
   "cell_type": "markdown",
   "id": "548f6d06-60ef-4645-a451-577c87adbb92",
   "metadata": {
    "jp-MarkdownHeadingCollapsed": true,
    "tags": []
   },
   "source": [
    "## Mapping Types"
   ]
  },
  {
   "cell_type": "code",
   "execution_count": 92,
   "id": "4b0f0b52-7767-482a-8a44-0fafc2cd4f1d",
   "metadata": {},
   "outputs": [
    {
     "data": {
      "text/plain": [
       "'John'"
      ]
     },
     "execution_count": 92,
     "metadata": {},
     "output_type": "execute_result"
    }
   ],
   "source": [
    "# Keyword lists\n",
    "\n",
    "kw_list = [{:name, 'John'}, {:name, 'Doe'}]\n",
    "kw_list[:name]"
   ]
  },
  {
   "cell_type": "code",
   "execution_count": 100,
   "id": "5c7dfc29-7b39-4f99-9536-125ac634c920",
   "metadata": {},
   "outputs": [
    {
     "data": {
      "text/plain": [
       "%{age: 30, name: 'John'}"
      ]
     },
     "execution_count": 100,
     "metadata": {},
     "output_type": "execute_result"
    }
   ],
   "source": [
    "# Maps\n",
    "\n",
    "m = %{:name => 'John', :age => 30}"
   ]
  },
  {
   "cell_type": "code",
   "execution_count": 120,
   "id": "f307b423-f95a-4432-8b84-d6a37120e501",
   "metadata": {},
   "outputs": [
    {
     "data": {
      "text/plain": [
       "true"
      ]
     },
     "execution_count": 120,
     "metadata": {},
     "output_type": "execute_result"
    }
   ],
   "source": [
    "m[:age] == m.age"
   ]
  },
  {
   "cell_type": "code",
   "execution_count": 102,
   "id": "73d517b3-039a-4903-ab5d-8af9b5389390",
   "metadata": {},
   "outputs": [
    {
     "data": {
      "text/plain": [
       "nil"
      ]
     },
     "execution_count": 102,
     "metadata": {},
     "output_type": "execute_result"
    }
   ],
   "source": [
    "m[:nonexistent]"
   ]
  },
  {
   "cell_type": "code",
   "execution_count": 108,
   "id": "431a13f4-8be2-4d33-a83e-6932e1b86e18",
   "metadata": {},
   "outputs": [
    {
     "data": {
      "text/plain": [
       "'John'"
      ]
     },
     "execution_count": 108,
     "metadata": {},
     "output_type": "execute_result"
    }
   ],
   "source": [
    "# Pattern matching\n",
    "\n",
    "%{:name => name} = m\n",
    "name"
   ]
  },
  {
   "cell_type": "code",
   "execution_count": 110,
   "id": "e3b8b6e5-12ec-4d3e-85d1-7fb20a17213f",
   "metadata": {},
   "outputs": [
    {
     "data": {
      "text/plain": [
       "30"
      ]
     },
     "execution_count": 110,
     "metadata": {},
     "output_type": "execute_result"
    }
   ],
   "source": [
    "Map.get(m, :age)"
   ]
  },
  {
   "cell_type": "code",
   "execution_count": 111,
   "id": "65190ea1-da8b-46bf-abe1-6f35d80b004d",
   "metadata": {},
   "outputs": [
    {
     "data": {
      "text/plain": [
       "%{age: 30, color: :blue, name: 'John'}"
      ]
     },
     "execution_count": 111,
     "metadata": {},
     "output_type": "execute_result"
    }
   ],
   "source": [
    "Map.put(m, :color, :blue)"
   ]
  },
  {
   "cell_type": "code",
   "execution_count": 117,
   "id": "da265f25-b339-4aef-8e17-718b3df529bd",
   "metadata": {},
   "outputs": [
    {
     "data": {
      "text/plain": [
       "true"
      ]
     },
     "execution_count": 117,
     "metadata": {},
     "output_type": "execute_result"
    }
   ],
   "source": [
    "# Keyword shortcut, when all keys are atoms\n",
    "\n",
    "%{a: 1} == %{:a => 1}"
   ]
  },
  {
   "cell_type": "code",
   "execution_count": 121,
   "id": "693905e6-ac0a-439f-bb7c-14341033e803",
   "metadata": {},
   "outputs": [
    {
     "data": {
      "text/plain": [
       "[prius: %{energy: :electricity, manufacturer: :toyota, model: \"Prius\"}, mirai: %{energy: :electricity, manufacturer: :toyota, model: \"Mirai\"}, model3: %{energy: :electricity, manufacturer: :tesla, model: \"Model 3\"}, mustang: %{energy: :gas, manufacturer: :ford, model: \"Mustang\"}]"
      ]
     },
     "execution_count": 121,
     "metadata": {},
     "output_type": "execute_result"
    }
   ],
   "source": [
    "# Nested\n",
    "\n",
    "cars = [\n",
    "    prius: %{energy: :electricity, manufacturer: :toyota, model: \"Prius\"}, \n",
    "    mirai: %{energy: :electricity, manufacturer: :toyota, model: \"Mirai\"}, \n",
    "    model3: %{energy: :electricity, manufacturer: :tesla, model: \"Model 3\"}, \n",
    "    mustang: %{energy: :gas, manufacturer: :ford, model: \"Mustang\"}\n",
    "]"
   ]
  },
  {
   "cell_type": "code",
   "execution_count": 123,
   "id": "c1e1a3c1-6530-4169-a34c-d9e1ffb03648",
   "metadata": {},
   "outputs": [
    {
     "data": {
      "text/plain": [
       ":ford"
      ]
     },
     "execution_count": 123,
     "metadata": {},
     "output_type": "execute_result"
    }
   ],
   "source": [
    "cars[:mustang].manufacturer"
   ]
  },
  {
   "cell_type": "code",
   "execution_count": 127,
   "id": "b04d54f3-d2bf-4099-8ae6-f7f2ce65be00",
   "metadata": {},
   "outputs": [
    {
     "data": {
      "text/plain": [
       "%{energy: :hybrid, manufacturer: :toyota, model: \"Prius\"}"
      ]
     },
     "execution_count": 127,
     "metadata": {},
     "output_type": "execute_result"
    }
   ],
   "source": [
    "cars = put_in cars[:prius].energy, :hybrid\n",
    "cars[:prius]"
   ]
  },
  {
   "cell_type": "markdown",
   "id": "6d76c567-34b2-4a4c-8c6c-fd72df8b3434",
   "metadata": {},
   "source": [
    "## Modules"
   ]
  },
  {
   "cell_type": "code",
   "execution_count": 1,
   "id": "c51a19dd-984a-4204-bc4a-26fd0863073e",
   "metadata": {},
   "outputs": [
    {
     "data": {
      "text/plain": [
       "\"defmodule MyMath do\\n    def sum(a, b) do\\n        a + b + 1\\n    end\\nend\\n\""
      ]
     },
     "execution_count": 1,
     "metadata": {},
     "output_type": "execute_result"
    }
   ],
   "source": [
    "module = \"\"\"\n",
    "defmodule MyMath do\n",
    "    def sum(a, b) do\n",
    "        a + b + 1\n",
    "    end\n",
    "end\n",
    "\"\"\""
   ]
  },
  {
   "cell_type": "code",
   "execution_count": 6,
   "id": "1f1ed04e-463c-45c9-b54d-7bdf0f42f517",
   "metadata": {},
   "outputs": [
    {
     "data": {
      "text/plain": [
       "\"my_math.ex\""
      ]
     },
     "execution_count": 6,
     "metadata": {},
     "output_type": "execute_result"
    }
   ],
   "source": [
    "filename = \"my_math.ex\""
   ]
  },
  {
   "cell_type": "code",
   "execution_count": 7,
   "id": "86a432f0-8fa9-46af-bf56-7bb3d89e56e4",
   "metadata": {},
   "outputs": [
    {
     "data": {
      "text/plain": [
       ":ok"
      ]
     },
     "execution_count": 7,
     "metadata": {},
     "output_type": "execute_result"
    }
   ],
   "source": [
    "{:ok, file} = File.open(filename, [:write, :utf8])\n",
    "IO.write(file, module)\n",
    "File.close(file)"
   ]
  },
  {
   "cell_type": "code",
   "execution_count": 8,
   "id": "6e25ccd2-0be1-4d51-b845-89fdb40717a7",
   "metadata": {},
   "outputs": [
    {
     "data": {
      "text/plain": [
       "{\"\", 0}"
      ]
     },
     "execution_count": 8,
     "metadata": {},
     "output_type": "execute_result"
    }
   ],
   "source": [
    "System.cmd(\"elixirc\", [filename])"
   ]
  },
  {
   "cell_type": "code",
   "execution_count": 9,
   "id": "48602a7b-ec33-40c7-8e94-3e21c41e26b2",
   "metadata": {},
   "outputs": [
    {
     "data": {
      "text/plain": [
       "4"
      ]
     },
     "execution_count": 9,
     "metadata": {},
     "output_type": "execute_result"
    }
   ],
   "source": [
    "MyMath.sum(1,2)"
   ]
  },
  {
   "cell_type": "code",
   "execution_count": null,
   "id": "37b6f142-6f3c-4a89-a193-3e59db2a3022",
   "metadata": {},
   "outputs": [],
   "source": []
  }
 ],
 "metadata": {
  "kernelspec": {
   "display_name": "Elixir",
   "language": "Elixir",
   "name": "ielixir"
  },
  "language_info": {
   "codemirror_mode": "elixir",
   "file_extension": "ex",
   "mimetype": "text/x-elixir",
   "name": "elixir",
   "nbconvert_exporter": "",
   "pygments_lexer": "elixir",
   "version": "1.12.2"
  },
  "toc-autonumbering": true
 },
 "nbformat": 4,
 "nbformat_minor": 5
}
